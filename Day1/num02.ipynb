{
 "cells": [
  {
   "cell_type": "code",
   "execution_count": 3,
   "metadata": {},
   "outputs": [],
   "source": [
    "import os"
   ]
  },
  {
   "cell_type": "code",
   "execution_count": null,
   "metadata": {},
   "outputs": [],
   "source": [
    "def add(num1, num2):\n",
    "    \"This function \""
   ]
  },
  {
   "cell_type": "code",
   "execution_count": null,
   "metadata": {},
   "outputs": [],
   "source": []
  },
  {
   "cell_type": "code",
   "execution_count": 4,
   "metadata": {},
   "outputs": [
    {
     "name": "stdout",
     "output_type": "stream",
     "text": [
      "I hear the drums echoing tonight, but she hears only whispers of some quiet conversation\n"
     ]
    }
   ],
   "source": [
    "lyrics = \"I hear the drums echoing tonight, but she hears only whispers of some quiet conversation\"\n",
    "lyrics = ( #, 없이 괄호로 묶어야 해\n",
    "\"I hear the drums echoing tonight, but she hears only whispers of some\"\n",
    "\" quiet conversation\"\n",
    ")\n",
    "print(lyrics)"
   ]
  },
  {
   "cell_type": "code",
   "execution_count": 7,
   "metadata": {},
   "outputs": [
    {
     "data": {
      "text/plain": [
       "True"
      ]
     },
     "execution_count": 7,
     "metadata": {},
     "output_type": "execute_result"
    }
   ],
   "source": [
    "type(3) == int #좋지 않아"
   ]
  },
  {
   "cell_type": "code",
   "execution_count": 9,
   "metadata": {},
   "outputs": [
    {
     "data": {
      "text/plain": [
       "True"
      ]
     },
     "execution_count": 9,
     "metadata": {},
     "output_type": "execute_result"
    }
   ],
   "source": [
    "isinstance(3, int)\n",
    "#타입검사 함수"
   ]
  },
  {
   "cell_type": "code",
   "execution_count": 10,
   "metadata": {},
   "outputs": [],
   "source": [
    "num: int = 1\n",
    "pi: float = 3.14\n",
    "name: str = \"John\"\n",
    "is_ok: bool = True\n",
    "nums: list = [1, 2, 3]\n",
    "pi_dict: dict = {\"pi\": 3.14}"
   ]
  },
  {
   "cell_type": "code",
   "execution_count": 12,
   "metadata": {},
   "outputs": [],
   "source": [
    "nums: list[int] = [1, 2, 3]\n",
    "names: list[str] = [\"John\", \"Jane\", \"Jack\"]"
   ]
  },
  {
   "cell_type": "code",
   "execution_count": 13,
   "metadata": {},
   "outputs": [],
   "source": [
    "num: int | float = 1\n",
    "num = 3.14"
   ]
  },
  {
   "cell_type": "code",
   "execution_count": 15,
   "metadata": {},
   "outputs": [],
   "source": [
    "name: str | None = None\n",
    "name = input(\"이름을 입력하세요: \")"
   ]
  },
  {
   "cell_type": "code",
   "execution_count": 20,
   "metadata": {},
   "outputs": [
    {
     "data": {
      "text/plain": [
       "'12'"
      ]
     },
     "execution_count": 20,
     "metadata": {},
     "output_type": "execute_result"
    }
   ],
   "source": [
    "def add(a: int, b: int) -> int:\n",
    "    return a + b\n",
    "\n",
    "add(1,2.14)\n",
    "add(\"1\", \"2\") #잘못 사용한다고 해서 자동으로 막아지는건 아니다 > 사용자에게 명시하는 것이다"
   ]
  },
  {
   "cell_type": "code",
   "execution_count": 23,
   "metadata": {},
   "outputs": [
    {
     "name": "stdout",
     "output_type": "stream",
     "text": [
      "Elapsed:  14.87sec\n",
      "Elapsed:  0.01sec\n"
     ]
    }
   ],
   "source": [
    "import time\n",
    "from collections import deque\n",
    "N = 100000\n",
    "nums = list(range(N))\n",
    "start = time.time()\n",
    "\n",
    "while nums: #nums 리스트가 존재하는 동안에 라는 의미\n",
    "    nums.pop(0)\n",
    "print(f\"Elapsed: {time.time() - start : .2f}sec\") #time.time() : 현재 시간\n",
    "\n",
    "nums = deque(list(range(N)))\n",
    "start = time.time()\n",
    "\n",
    "while nums:\n",
    "    nums.popleft()\n",
    "print(f\"Elapsed: {time.time() - start : .2f}sec\")"
   ]
  },
  {
   "cell_type": "code",
   "execution_count": 2,
   "metadata": {},
   "outputs": [
    {
     "name": "stdout",
     "output_type": "stream",
     "text": [
      "False\n",
      "Elapsed:  0.08774sec\n",
      "False\n",
      "Elapsed:  0.00100sec\n"
     ]
    }
   ],
   "source": [
    "import time\n",
    "N = 10_000_000\n",
    "\n",
    "nums = list(range(N)) #list로 구현\n",
    "start = time.time()\n",
    "print(N in nums)\n",
    "print(f\"Elapsed: {time.time() - start : .5f}sec\")\n",
    "\n",
    "nums = {i: i for i in range(N)} #dictionary 로 구현\n",
    "start = time.time()\n",
    "print(N in nums)\n",
    "print(f\"Elapsed: {time.time() - start : .5f}sec\")"
   ]
  },
  {
   "cell_type": "code",
   "execution_count": 4,
   "metadata": {},
   "outputs": [
    {
     "data": {
      "text/plain": [
       "[0, 1, 4, 9, 16, 25, 36, 49, 64, 81]"
      ]
     },
     "execution_count": 4,
     "metadata": {},
     "output_type": "execute_result"
    }
   ],
   "source": [
    "nums = []\n",
    "for num in range(10):\n",
    "    nums.append(num**2)\n",
    "\n",
    "nums"
   ]
  },
  {
   "cell_type": "code",
   "execution_count": 7,
   "metadata": {},
   "outputs": [
    {
     "data": {
      "text/plain": [
       "[0, 1, 4, 9, 16, 25, 36, 49, 64, 81]"
      ]
     },
     "execution_count": 7,
     "metadata": {},
     "output_type": "execute_result"
    }
   ],
   "source": [
    "nums = [\n",
    "    num **2 for num in range(10)\n",
    "]\n",
    "nums"
   ]
  },
  {
   "cell_type": "code",
   "execution_count": 12,
   "metadata": {},
   "outputs": [
    {
     "name": "stdout",
     "output_type": "stream",
     "text": [
      "Elapsed:  0.50sec\n",
      "Elapsed:  0.33sec\n",
      "Elapsed:  0.38sec\n"
     ]
    }
   ],
   "source": [
    "import time\n",
    "N = 1000000\n",
    "\n",
    "start = time.time()\n",
    "nums = []\n",
    "for num in range(N):\n",
    "    nums.append(num ** 2)\n",
    "print(f\"Elapsed: {time.time() - start : .2f}sec\")\n",
    "\n",
    "start = time.time()\n",
    "nums = [num ** 2 for num in range(N)]\n",
    "print(f\"Elapsed: {time.time() - start : .2f}sec\")\n",
    "\n",
    "start = time.time() #map 은 list 보다 속도가 느리다\n",
    "nums = list(map(lambda num: num ** 2, range(N)))\n",
    "print(f\"Elapsed: {time.time() - start : .2f}sec\")"
   ]
  },
  {
   "cell_type": "code",
   "execution_count": 20,
   "metadata": {},
   "outputs": [
    {
     "name": "stdout",
     "output_type": "stream",
     "text": [
      "Elapsed:  0.17sec\n",
      "Elapsed:  0.19sec\n"
     ]
    }
   ],
   "source": [
    "import time\n",
    "N = 100_000\n",
    "chars = [\"a\", \"b\", \"c\", \"d\", \"e\", \"f\", \"g\", \"h\", \"i\", \"j\", \"z\",\"zz\" ]\n",
    "\n",
    "start = time.time()\n",
    "for _ in range(N):\n",
    "    for idx, char in enumerate(chars):\n",
    "        idx, char\n",
    "        continue\n",
    "print(f\"Elapsed: {time.time() - start : .2f}sec\")\n",
    "\n",
    "start = time.time()\n",
    "for _ in range(N):\n",
    "    for idx in range(len(chars)):\n",
    "        idx, chars[idx]\n",
    "        continue\n",
    "print(f\"Elapsed: {time.time() - start : .2f}sec\")"
   ]
  }
 ],
 "metadata": {
  "kernelspec": {
   "display_name": "Python 3.10.6 ('venv': venv)",
   "language": "python",
   "name": "python3"
  },
  "language_info": {
   "codemirror_mode": {
    "name": "ipython",
    "version": 3
   },
   "file_extension": ".py",
   "mimetype": "text/x-python",
   "name": "python",
   "nbconvert_exporter": "python",
   "pygments_lexer": "ipython3",
   "version": "3.10.6"
  },
  "orig_nbformat": 4,
  "vscode": {
   "interpreter": {
    "hash": "2492271b4a026e4569eadfcaf27df5acea9db6cbf1ffefd6153100bc3110007b"
   }
  }
 },
 "nbformat": 4,
 "nbformat_minor": 2
}
